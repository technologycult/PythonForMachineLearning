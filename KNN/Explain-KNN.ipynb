{
 "cells": [
  {
   "cell_type": "markdown",
   "id": "707cdc20",
   "metadata": {},
   "source": [
    "# KNN"
   ]
  },
  {
   "cell_type": "code",
   "execution_count": 4,
   "id": "e6a891f3",
   "metadata": {},
   "outputs": [],
   "source": [
    "import pandas as pd\n",
    "import numpy as np"
   ]
  },
  {
   "cell_type": "code",
   "execution_count": 7,
   "id": "d5d1e725",
   "metadata": {},
   "outputs": [],
   "source": [
    "df1 = pd.DataFrame()\n",
    "df1['Age'] = [20, 40, 30]\n",
    "df1['Salary'] = [3, 4.5, np.nan]"
   ]
  },
  {
   "cell_type": "code",
   "execution_count": 8,
   "id": "73ac2276",
   "metadata": {},
   "outputs": [
    {
     "name": "stdout",
     "output_type": "stream",
     "text": [
      "   Age  Salary\n",
      "0   20     3.0\n",
      "1   40     4.5\n",
      "2   30     NaN\n"
     ]
    }
   ],
   "source": [
    "print(df1)"
   ]
  },
  {
   "cell_type": "code",
   "execution_count": 9,
   "id": "ed90c5e0",
   "metadata": {},
   "outputs": [],
   "source": [
    "from sklearn.impute import KNNImputerputer"
   ]
  },
  {
   "cell_type": "code",
   "execution_count": 10,
   "id": "98b90e73",
   "metadata": {},
   "outputs": [],
   "source": [
    "knnimp = KNNImputer(n_neighbors=2)"
   ]
  },
  {
   "cell_type": "code",
   "execution_count": 11,
   "id": "4e68a44f",
   "metadata": {},
   "outputs": [
    {
     "data": {
      "text/plain": [
       "array([[20.  ,  3.  ],\n",
       "       [40.  ,  4.5 ],\n",
       "       [30.  ,  3.75]])"
      ]
     },
     "execution_count": 11,
     "metadata": {},
     "output_type": "execute_result"
    }
   ],
   "source": [
    "knnimp.fit_transform(df1)"
   ]
  },
  {
   "cell_type": "code",
   "execution_count": 12,
   "id": "21ab98f9",
   "metadata": {},
   "outputs": [
    {
     "data": {
      "text/plain": [
       "3.75"
      ]
     },
     "execution_count": 12,
     "metadata": {},
     "output_type": "execute_result"
    }
   ],
   "source": [
    "(3 + 4.5)/2"
   ]
  },
  {
   "cell_type": "code",
   "execution_count": 14,
   "id": "3a7ea559",
   "metadata": {},
   "outputs": [],
   "source": [
    "df = pd.DataFrame()\n",
    "df['Maths'] = [80,90,np.nan, 92]\n",
    "df['Chemistry'] = [60,65,58, np.nan]\n",
    "df['Physics'] = [np.nan,57,84,78]\n",
    "df['Biology'] = [78, 89, 67, np.nan]"
   ]
  },
  {
   "cell_type": "code",
   "execution_count": 15,
   "id": "c9ac7e73",
   "metadata": {},
   "outputs": [
    {
     "data": {
      "text/html": [
       "<div>\n",
       "<style scoped>\n",
       "    .dataframe tbody tr th:only-of-type {\n",
       "        vertical-align: middle;\n",
       "    }\n",
       "\n",
       "    .dataframe tbody tr th {\n",
       "        vertical-align: top;\n",
       "    }\n",
       "\n",
       "    .dataframe thead th {\n",
       "        text-align: right;\n",
       "    }\n",
       "</style>\n",
       "<table border=\"1\" class=\"dataframe\">\n",
       "  <thead>\n",
       "    <tr style=\"text-align: right;\">\n",
       "      <th></th>\n",
       "      <th>Maths</th>\n",
       "      <th>Chemistry</th>\n",
       "      <th>Physics</th>\n",
       "      <th>Biology</th>\n",
       "    </tr>\n",
       "  </thead>\n",
       "  <tbody>\n",
       "    <tr>\n",
       "      <th>0</th>\n",
       "      <td>80.0</td>\n",
       "      <td>60.0</td>\n",
       "      <td>NaN</td>\n",
       "      <td>78.0</td>\n",
       "    </tr>\n",
       "    <tr>\n",
       "      <th>1</th>\n",
       "      <td>90.0</td>\n",
       "      <td>65.0</td>\n",
       "      <td>57.0</td>\n",
       "      <td>89.0</td>\n",
       "    </tr>\n",
       "    <tr>\n",
       "      <th>2</th>\n",
       "      <td>NaN</td>\n",
       "      <td>58.0</td>\n",
       "      <td>84.0</td>\n",
       "      <td>67.0</td>\n",
       "    </tr>\n",
       "    <tr>\n",
       "      <th>3</th>\n",
       "      <td>92.0</td>\n",
       "      <td>NaN</td>\n",
       "      <td>78.0</td>\n",
       "      <td>NaN</td>\n",
       "    </tr>\n",
       "  </tbody>\n",
       "</table>\n",
       "</div>"
      ],
      "text/plain": [
       "   Maths  Chemistry  Physics  Biology\n",
       "0   80.0       60.0      NaN     78.0\n",
       "1   90.0       65.0     57.0     89.0\n",
       "2    NaN       58.0     84.0     67.0\n",
       "3   92.0        NaN     78.0      NaN"
      ]
     },
     "execution_count": 15,
     "metadata": {},
     "output_type": "execute_result"
    }
   ],
   "source": [
    "df"
   ]
  },
  {
   "cell_type": "code",
   "execution_count": 25,
   "id": "c70b6677",
   "metadata": {},
   "outputs": [],
   "source": [
    "knnimp = KNNImputer(n_neighbors=3)"
   ]
  },
  {
   "cell_type": "code",
   "execution_count": 26,
   "id": "d7b2696d",
   "metadata": {},
   "outputs": [
    {
     "data": {
      "text/plain": [
       "array([[80.        , 60.        , 73.        , 78.        ],\n",
       "       [90.        , 65.        , 57.        , 89.        ],\n",
       "       [87.33333333, 58.        , 84.        , 67.        ],\n",
       "       [92.        , 61.        , 78.        , 78.        ]])"
      ]
     },
     "execution_count": 26,
     "metadata": {},
     "output_type": "execute_result"
    }
   ],
   "source": [
    "knnimp.fit_transform(df)"
   ]
  },
  {
   "cell_type": "code",
   "execution_count": 27,
   "id": "fcff8684",
   "metadata": {},
   "outputs": [
    {
     "data": {
      "text/plain": [
       "61.0"
      ]
     },
     "execution_count": 27,
     "metadata": {},
     "output_type": "execute_result"
    }
   ],
   "source": [
    "(60 + 65 + 58)/3"
   ]
  },
  {
   "cell_type": "code",
   "execution_count": null,
   "id": "dd57943d",
   "metadata": {},
   "outputs": [],
   "source": []
  }
 ],
 "metadata": {
  "kernelspec": {
   "display_name": "Python 3 (ipykernel)",
   "language": "python",
   "name": "python3"
  },
  "language_info": {
   "codemirror_mode": {
    "name": "ipython",
    "version": 3
   },
   "file_extension": ".py",
   "mimetype": "text/x-python",
   "name": "python",
   "nbconvert_exporter": "python",
   "pygments_lexer": "ipython3",
   "version": "3.8.12"
  }
 },
 "nbformat": 4,
 "nbformat_minor": 5
}
